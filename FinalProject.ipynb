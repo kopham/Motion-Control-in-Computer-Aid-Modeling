{
 "cells": [
  {
   "cell_type": "markdown",
   "id": "3706c776",
   "metadata": {},
   "source": [
    "\\textbf{Instructions:}\n",
    "\n",
    "1. Make sure you submit the solutions before the deadline (Sunday May 8th, 2022 by midnight). Late submission will be penalized as follows: late within one day (24 hours): 15% penalty; late within two days: 30% penalty, late within three days: 40% penalty. Submission after three days will not be accepted.\n",
    "\n",
    "2. Discussion with classmates on the problems is not allowed. All \\textbf{clarification} questions should be directed to me. \\textbf{You should be responsible for the debugging of the code}.\n",
    "\n",
    "3. \\textbf{Make sure you rerun the whole Jupyter file one last time before submission}. The cell numbers should be consecutive starting from 1. \n",
    "\n",
    "4. After you submit your code, it is your responsibility to check if you submitted the correct file. Sometimes an empty file is submitted by mistake. I will treat any resubmissions past the deadline that are due to such mistakes as late submissions.\n",
    "\n",
    "5. Please utilize the time wisely. Do not wait until the last few days to start working on the project.\n",
    "\n",
    "Good luck!"
   ]
  },
  {
   "cell_type": "markdown",
   "id": "442ec7ce",
   "metadata": {},
   "source": [
    "# Final Project-Motion Control in Computer-Aided Modeling"
   ]
  },
  {
   "cell_type": "markdown",
   "id": "1bbe69cb",
   "metadata": {},
   "source": [
    "Computer-aided modeling and manufacturing requires precise control of spatial position along a prescribed motion path. We will illustrate the use of quadrature to solve a fundamental piece of the problem: equipartition, or the division of an arbitrary path into equal-length subpaths.\n",
    "\n",
    "In numerical machining problems, it is preferable to maintain constant speed along the path. During each second, progress should be made along an equal length of the machine–material interface. In other motion planning applications, including computer animation, more complicated progress curves may be required: A hand reaching for a doorknob might begin and end with low velocity and have higher velocity in between. Robotics and virtual reality applications require the construction of parametrized curves and surfaces to be navigated. Building a table of small equal increments in path distance is often a necessary first step."
   ]
  },
  {
   "cell_type": "markdown",
   "id": "6440ed6f",
   "metadata": {},
   "source": [
    "Assume that a parametric path $P=\\{x(t), y(t)|0\\le t\\le 1\\}$ is given. The following figure shows the example path\n",
    "\\begin{equation*}\n",
    "P=\\left\\{\\begin{array}{l}\n",
    "x(t)=0.5+0.3 t+3.9 t^{2}-4.7 t^{3} \\\\\n",
    "y(t)=1.5+0.3 t+0.9 t^{2}-2.7 t^{3}\n",
    "\\end{array}\\right.\n",
    "\\end{equation*}\n"
   ]
  },
  {
   "cell_type": "markdown",
   "id": "4999796c",
   "metadata": {},
   "source": [
    "![Parametrized curve given by Bezier spline](./Bezier.png)"
   ]
  },
  {
   "cell_type": "markdown",
   "id": "6184db04",
   "metadata": {},
   "source": [
    "Points defined by evenly spaced parameter values $t =0,1/4,1/2,3/4,1$ are shown. Note that even spacing in parameter does not imply even spacing in arc length. Your goal is to apply quadrature methods to divide this path into $n$ equal lengths. Typically, equal intervals of the parameter $t$ do not divide the path into segments of equal length."
   ]
  },
  {
   "cell_type": "markdown",
   "id": "67aec730",
   "metadata": {},
   "source": [
    "Recall from calculus that the arc length of the path from $t_1$ to $t_2$ is\n",
    "$$ \\int_{t_1}^{t_2} \\sqrt{x'(t)^2+y'(t)^2}\\,dt $$"
   ]
  },
  {
   "cell_type": "markdown",
   "id": "c24a7370",
   "metadata": {},
   "source": [
    "Only rarely does the integral yield a closed-formexpression, and normally a quadrature technique is used to control the parametrization of the path."
   ]
  },
  {
   "cell_type": "markdown",
   "id": "e3a55cdc",
   "metadata": {},
   "source": [
    "# Problem 1"
   ]
  },
  {
   "cell_type": "markdown",
   "id": "2f7657b1",
   "metadata": {},
   "source": [
    "Write a Python function that implements the composite Simpson's rule. The interface of the function should be:"
   ]
  },
  {
   "cell_type": "code",
   "execution_count": 37,
   "id": "321a887a",
   "metadata": {
    "scrolled": true
   },
   "outputs": [],
   "source": [
    "# Problem 1\n",
    "import numpy as np\n",
    "import math\n",
    "\n",
    "# Composite Simpson's Rule \n",
    "def composite_simpson(f, a, b, m):\n",
    "    \"\"\"\n",
    "    Compute definite integrals by composite Simpson's Rule\n",
    "    f: a function whose integral will be found\n",
    "    a: the left end of the integral\n",
    "    b: the right end of the integral\n",
    "    m: the number of intervals/panels\n",
    "    \"\"\"\n",
    "    if (m % 2 != 0):\n",
    "        return false\n",
    "    h = (b-a)/m\n",
    "    x = a\n",
    "    sum = 0\n",
    "    for i in range(m - 1):\n",
    "        x = x + h\n",
    "        y = f(x)\n",
    "        if (i % 2 != 0):\n",
    "            sum = sum + (2 * y)\n",
    "        else:\n",
    "            sum = sum + (4 * y)\n",
    "    simp = (h/3) * (f(a) + sum + f(b))\n",
    "    return simp"
   ]
  },
  {
   "cell_type": "markdown",
   "id": "cd75aaf0",
   "metadata": {},
   "source": [
    "Apply the function to Example 1.3 in Lecture 12 and make sure you get the same result."
   ]
  },
  {
   "cell_type": "code",
   "execution_count": 38,
   "id": "2d473411",
   "metadata": {},
   "outputs": [
    {
     "name": "stdout",
     "output_type": "stream",
     "text": [
      "The approximation is: 0.38626\n"
     ]
    }
   ],
   "source": [
    "# Test example 1.3 in lecture 12\n",
    "def func(x):\n",
    "    f_x = math.log(x)\n",
    "    return f_x\n",
    "\n",
    "approx = composite_simpson(func, 1, 2, 4)\n",
    "ans = np.around(approx, 5)\n",
    "print('The approximation is:',ans)"
   ]
  },
  {
   "cell_type": "markdown",
   "id": "7f94a869",
   "metadata": {},
   "source": [
    "## Problem 2"
   ]
  },
  {
   "cell_type": "markdown",
   "id": "ac85cacc",
   "metadata": {},
   "source": [
    "Use the composite Simpson's rule to compute the arc length from $t = 0$ to $t = T$ for a given $T ≤ 1$. Report the result for $T=1$."
   ]
  },
  {
   "cell_type": "code",
   "execution_count": 39,
   "id": "06956d2d",
   "metadata": {
    "scrolled": true
   },
   "outputs": [
    {
     "name": "stdout",
     "output_type": "stream",
     "text": [
      "The arc length is: 2.5197773082568036\n"
     ]
    }
   ],
   "source": [
    "# Problem 2\n",
    "def func(t):\n",
    "    arcLen = math.sqrt((0.3 + (7.8*t) - (14.1*(t**2)))**2 + (0.3 + (1.8*t) - (8.1*(t**2)))**2)\n",
    "    return arcLen\n",
    "\n",
    "compute = composite_simpson(func, 0, 1, 4)\n",
    "print('The arc length is:', compute)"
   ]
  },
  {
   "cell_type": "markdown",
   "id": "60a2edf1",
   "metadata": {},
   "source": [
    "## Problem 3"
   ]
  },
  {
   "cell_type": "markdown",
   "id": "b6753ccf",
   "metadata": {},
   "source": [
    "Write a program that, for any input $s$ between $0$ and $1$, finds the parameter $t^∗(s)$ that is $s$ of the way along the curve. In other words, the arc length from $t = 0$ to $t = t^∗(s)$\n",
    "divided by the arc length from $t = 0$ to $t = 1$ should be equal to $s$. Use the Bisection\n",
    "Method to locate the point $t^∗(s)$ to three correct decimal places.\n",
    "\n",
    "1. What function is being set to zero? \n",
    "2. What bracketing interval should be used to start the Bisection Method?\n",
    "3. Give $t^*(s)$ corresponding to $s = 0.2$."
   ]
  },
  {
   "cell_type": "code",
   "execution_count": 2,
   "id": "3ee7984d",
   "metadata": {
    "scrolled": false
   },
   "outputs": [
    {
     "name": "stdout",
     "output_type": "stream",
     "text": [
      "The result of arc length from t = 0 to t = 1 is 2.495246747514833\n",
      "The result of arc length from t = 0 to t = t * (s) is  0.49904934950296664\n",
      "So now 0.49904934950296664 is divided by 2.495246747514833 will give 0.2 which is equal to the given s = 0.2\n",
      "\n",
      "The quad(integrand, 0, t*)[0] is the arc length approximated from t = 0 to t = t * (s)\n",
      "1. The function is being set to zero is quad(integrand, 0, t*)[0] - 2.495246747514833 * 0.2 is equal to 0\n",
      "2. Using the Bisection Method, the interval should be used to start (-10, 10)\n",
      "\n",
      "The solution of t* is 0.4315185546875\n"
     ]
    }
   ],
   "source": [
    "# Problem 3\n",
    "from scipy.integrate import quad\n",
    "from sympy import symbols, Eq\n",
    "import numpy as np\n",
    "import math\n",
    "\n",
    "def bisect(f, a, b, tol):\n",
    "    # Check if the algorithm needs to proceed\n",
    "    if f(a) == 0:\n",
    "        print('The solution is ', a)\n",
    "        stop\n",
    "    if f(b) == 0:\n",
    "        print('The solution is ', b)\n",
    "        stop\n",
    "    if np.sign(f(a))*np.sign(f(b)) == 1:\n",
    "        print('f(a)f(b) is not satisfied')\n",
    "        stop\n",
    "    fa = f(a)\n",
    "    fb = f(b)\n",
    "    while (b-a)/2 > tol:\n",
    "        c = (a+b)/2\n",
    "        fc = f(c)\n",
    "        if fc == 0:\n",
    "            break\n",
    "        if np.sign(fc)*np.sign(fa)<0:\n",
    "            # a and c form the new interval\n",
    "            b = c\n",
    "            fb = fc\n",
    "        else:\n",
    "            a = c\n",
    "            fa = fc\n",
    "    \n",
    "    return (a+b)/2\n",
    "\n",
    "def arcLength(t):\n",
    "    x_t = 0.3 + (7.8*t) - (14.1*(t**2))\n",
    "    y_t = 0.3 + (1.8*t) - (8.1*(t**2))\n",
    "    arc_length = math.sqrt((x_t)**2 + (y_t)**2)\n",
    "    return arc_length\n",
    "\n",
    "# The arc length from t = 0 to t = 1\n",
    "integral1, error = quad(arcLength, 0, 1)\n",
    "\n",
    "# The arc length from t = 0 to t = t*(s), s = 0.2 \n",
    "s = 0.2\n",
    "integral2 = integral1 * s\n",
    "result = integral2 / integral1\n",
    "\n",
    "print(\"The result of arc length from t = 0 to t = 1 is\", integral1)\n",
    "print(\"The result of arc length from t = 0 to t = t * (s) is \", integral2)\n",
    "print(\"So now\", integral2, \"is divided by\", integral1, \"will give\", result, \"which is equal to the given s = 0.2\")\n",
    "\n",
    "def func(t):\n",
    "    theFunc = quad(arcLength, 0, t)[0] \n",
    "    theFunc2 = theFunc - integral1 * s\n",
    "    return theFunc2\n",
    "tol = 1e-3\n",
    "tValue = bisect(func, -10, 10, tol)\n",
    "\n",
    "print()\n",
    "print(\"The quad(integrand, 0, t*)[0] is the arc length approximated from t = 0 to t = t * (s)\")\n",
    "print(\"1. The function is being set to zero is quad(integrand, 0, t*)[0] -\",integral1,\"* 0.2 is equal to 0\")\n",
    "print(\"2. Using the Bisection Method, the interval should be used to start (-10, 10)\")\n",
    "print()\n",
    "print(\"The solution of t* is\",tValue)"
   ]
  },
  {
   "cell_type": "markdown",
   "id": "205e1d03",
   "metadata": {},
   "source": [
    "## Problem 4"
   ]
  },
  {
   "cell_type": "markdown",
   "id": "5cf8fcc5",
   "metadata": {},
   "source": [
    "Equipartition the path of the figure above into $n=4$ subpaths of equal length. Plot an analogue of the figure above, showing the equipartitions."
   ]
  },
  {
   "cell_type": "code",
   "execution_count": 3,
   "id": "06b8bb20",
   "metadata": {},
   "outputs": [
    {
     "name": "stdout",
     "output_type": "stream",
     "text": [
      "The value of t from t = 0 to t = 1, there are four subpaths of equal length is\n",
      "t1 = 0.5462646484375\n",
      "t2 = 0.8001708984375\n",
      "t3 = 0.9161376953125\n",
      "t4 = 0.9991455078125\n",
      "\n",
      "The analogue of the figure:\n"
     ]
    },
    {
     "data": {
      "image/png": "[encoded data removed]",
      "text/plain": [
       "<Figure size 432x288 with 1 Axes>"
      ]
     },
     "metadata": {
      "needs_background": "light"
     },
     "output_type": "display_data"
    }
   ],
   "source": [
    "# Problem 4 \n",
    "from scipy.integrate import quad\n",
    "import matplotlib.pyplot as plt\n",
    "%matplotlib inline\n",
    "\n",
    "def isFunc(t_b):\n",
    "    func = quad(arcLength, t_a ,t_b)[0] - (integral1 * 0.25)\n",
    "    return func\n",
    "\n",
    "tol = 1e-3\n",
    "t_a = 0\n",
    "t = np.array([0., 0., 0., 0.])\n",
    "\n",
    "def fX(t):\n",
    "    f_x = 0.5 + (0.3*t) + (3.9*(t**2)) - (4.7*(t**3))\n",
    "    return f_x\n",
    "\n",
    "def fY(t):\n",
    "    f_y = 1.5 + (0.3*t) + (0.9*(t**2)) - (2.7*(t**3))\n",
    "    return f_y \n",
    "\n",
    "print(\"The value of t from t = 0 to t = 1, there are four subpaths of equal length is\")\n",
    "t[0] = bisect(isFunc, -10, 10, tol)\n",
    "t_a = t[0]\n",
    "print(\"t1 =\",t[0])\n",
    "t[1] = bisect(isFunc, -10, 10, tol)\n",
    "t_a = t[1]\n",
    "print(\"t2 =\",t[1])\n",
    "t[2] = bisect(isFunc, -10, 10, tol)\n",
    "t_a = t[2]\n",
    "print(\"t3 =\",t[2])\n",
    "t[3] = bisect(isFunc, -10, 10, tol)\n",
    "t_a = t[3]\n",
    "print(\"t4 =\",t[3])\n",
    "\n",
    "t1 = np.linspace(0, t[0], 10)  \n",
    "t2 = np.linspace(t[0], t[1], 10)\n",
    "t3 = np.linspace(t[1], t[2], 10)\n",
    "t4 = np.linspace(t[2], t[3], 10)\n",
    "\n",
    "plt.plot(fX(t1), fY(t1),'-', c = 'r')\n",
    "plt.plot(fX(t2), fY(t2),'-', c = 'm')\n",
    "plt.plot(fX(t3), fY(t3),'-', c = 'c')\n",
    "plt.plot(fX(t4), fY(t4),'-', c = 'k')\n",
    "plt.title(\"Equipartition into n = 4 subpaths of equal length\")\n",
    "plt.legend(['0 to t1', 't1 to t2', 't2 to t3', 't3 to t4'])\n",
    "print()\n",
    "print('The analogue of the figure:')"
   ]
  }
 ],
 "metadata": {
  "kernelspec": {
   "display_name": "Python 3 (ipykernel)",
   "language": "python",
   "name": "python3"
  },
  "language_info": {
   "codemirror_mode": {
    "name": "ipython",
    "version": 3
   },
   "file_extension": ".py",
   "mimetype": "text/x-python",
   "name": "python",
   "nbconvert_exporter": "python",
   "pygments_lexer": "ipython3",
   "version": "3.9.12"
  },
  "latex_envs": {
   "LaTeX_envs_menu_present": true,
   "autoclose": false,
   "autocomplete": true,
   "bibliofile": "biblio.bib",
   "cite_by": "apalike",
   "current_citInitial": 1,
   "eqLabelWithNumbers": true,
   "eqNumInitial": 1,
   "hotkeys": {
    "equation": "Ctrl-E",
    "itemize": "Ctrl-I"
   },
   "labels_anchors": false,
   "latex_user_defs": false,
   "report_style_numbering": false,
   "user_envs_cfg": false
  }
 },
 "nbformat": 4,
 "nbformat_minor": 5
}
